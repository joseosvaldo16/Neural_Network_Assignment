{
 "cells": [
  {
   "cell_type": "code",
   "execution_count": 90,
   "metadata": {},
   "outputs": [
    {
     "data": {
      "text/plain": [
       "'1.1.2'"
      ]
     },
     "execution_count": 90,
     "metadata": {},
     "output_type": "execute_result"
    }
   ],
   "source": [
    "import pandas as pd\n",
    "import numpy as np \n",
    "import matplotlib.pyplot as plt\n",
    "import sys\n",
    "import sklearn\n",
    "from sklearn import metrics, neural_network\n",
    "import itertools\n",
    "import Utility\n",
    "import time\n",
    "import scipy\n",
    "from sklearn import preprocessing, naive_bayes\n",
    "import math \n",
    "plt.rcParams['figure.dpi'] = 150\n",
    "import scipy.stats as stats\n",
    "\n",
    "\n",
    "sklearn.__version__\n",
    "##Jose Vera (jvera3@hawk.iit.edu)\n",
    "##Assignment 4"
   ]
  },
  {
   "cell_type": "code",
   "execution_count": 83,
   "metadata": {},
   "outputs": [],
   "source": [
    "df = pd.read_csv('Purchase_Likelihood.csv').dropna()\n",
    "dfx = df.drop(columns='insurance')\n",
    "\n",
    "catName = ['group_size','homeowner','married_couple']"
   ]
  },
  {
   "cell_type": "code",
   "execution_count": 84,
   "metadata": {},
   "outputs": [],
   "source": [
    "def RowWithColumn (\n",
    "   rowVar,          # Row variable\n",
    "   columnVar,       # Column predictor\n",
    "   show = 'ROW'):   # Show ROW fraction, COLUMN fraction, or BOTH table\n",
    "\n",
    "   countTable = pd.crosstab(index = rowVar, columns = columnVar, margins = False, dropna = True)\n",
    "   print(\"Frequency Table: \\n\", countTable)\n",
    "   print( )\n",
    "\n",
    "   if (show == 'ROW' or show == 'BOTH'):\n",
    "       rowFraction = countTable.div(countTable.sum(1), axis='index')\n",
    "       print(\"Row Fraction Table: \\n\", rowFraction)\n",
    "       print( )\n",
    "\n",
    "   if (show == 'COLUMN' or show == 'BOTH'):\n",
    "       columnFraction = countTable.div(countTable.sum(0), axis='columns')\n",
    "       print(\"Column Fraction Table: \\n\", columnFraction)\n",
    "       print( )\n",
    "\n",
    "   return"
   ]
  },
  {
   "cell_type": "code",
   "execution_count": 85,
   "metadata": {},
   "outputs": [
    {
     "name": "stdout",
     "output_type": "stream",
     "text": [
      "Frequency Table: \n",
      " group_size       1      2     3    4\n",
      "insurance                           \n",
      "0           115460  25728  2282  221\n",
      "1           329552  91065  5069  381\n",
      "2            74293  19600  1505   93\n",
      "\n",
      "Row Fraction Table: \n",
      " group_size         1         2         3         4\n",
      "insurance                                         \n",
      "0           0.803530  0.179051  0.015881  0.001538\n",
      "1           0.773475  0.213734  0.011897  0.000894\n",
      "2           0.778010  0.205255  0.015761  0.000974\n",
      "\n",
      "-----------\n",
      "Frequency Table: \n",
      " homeowner       0       1\n",
      "insurance                \n",
      "0           78659   65032\n",
      "1          183130  242937\n",
      "2           46734   48757\n",
      "\n",
      "Row Fraction Table: \n",
      " homeowner         0         1\n",
      "insurance                    \n",
      "0          0.547418  0.452582\n",
      "1          0.429815  0.570185\n",
      "2          0.489407  0.510593\n",
      "\n",
      "-----------\n",
      "Frequency Table: \n",
      " married_couple       0      1\n",
      "insurance                    \n",
      "0               117110  26581\n",
      "1               333272  92795\n",
      "2                75310  20181\n",
      "\n",
      "Row Fraction Table: \n",
      " married_couple         0         1\n",
      "insurance                         \n",
      "0               0.815013  0.184987\n",
      "1               0.782206  0.217794\n",
      "2               0.788661  0.211339\n",
      "\n"
     ]
    }
   ],
   "source": [
    "catGroupSize = df['group_size'].unique()\n",
    "catHomeowner = df['homeowner'].unique()\n",
    "catMarriedCouple = df['married_couple'].unique()\n",
    "catInsurance = df['insurance'].unique()\n",
    "\n",
    "RowWithColumn(rowVar = df['insurance'], columnVar = df['group_size'], show = 'ROW')\n",
    "print('-----------')\n",
    "RowWithColumn(rowVar = df['insurance'], columnVar = df['homeowner'], show = 'ROW')\n",
    "print('-----------')\n",
    "RowWithColumn(rowVar = df['insurance'], columnVar = df['married_couple'], show = 'ROW')\n"
   ]
  },
  {
   "cell_type": "code",
   "execution_count": 86,
   "metadata": {},
   "outputs": [],
   "source": [
    "df = df.astype('category')\n",
    "xTrain = pd.get_dummies(df[['group_size','homeowner','married_couple']])\n",
    "yTrain = df.insurance"
   ]
  },
  {
   "cell_type": "code",
   "execution_count": 87,
   "metadata": {},
   "outputs": [
    {
     "name": "stdout",
     "output_type": "stream",
     "text": [
      "[array([1, 2, 3, 4]), array([0, 1]), array([0, 1])]\n"
     ]
    },
    {
     "name": "stderr",
     "output_type": "stream",
     "text": [
      "/Library/Frameworks/Python.framework/Versions/3.10/lib/python3.10/site-packages/sklearn/naive_bayes.py:591: UserWarning: alpha too small will result in numeric errors, setting alpha = 1.0e-10\n",
      "  warnings.warn(\n"
     ]
    }
   ],
   "source": [
    "# Correctly Use sklearn.naive_bayes.CategoricalNB\n",
    "feature = catName\n",
    "\n",
    "labelEnc = preprocessing.LabelEncoder()\n",
    "yTrain = labelEnc.fit_transform(df['insurance'])\n",
    "yLabel = labelEnc.inverse_transform([0, 1])\n",
    "\n",
    "uGropuSize = np.unique(df['group_size'])\n",
    "uHomeowner = np.unique(df['homeowner'])\n",
    "uMarriedCouple = np.unique(df['married_couple'])\n",
    "\n",
    "featureCategory = [uGropuSize, uHomeowner, uMarriedCouple]\n",
    "print(featureCategory)\n",
    "\n",
    "featureEnc = preprocessing.OrdinalEncoder(categories = featureCategory)\n",
    "xTrain = featureEnc.fit_transform(df[['group_size', 'homeowner', 'married_couple']])\n",
    "\n",
    "_objNB = naive_bayes.CategoricalNB(alpha = 0)\n",
    "thisModel = _objNB.fit(xTrain, yTrain)"
   ]
  },
  {
   "cell_type": "code",
   "execution_count": 88,
   "metadata": {},
   "outputs": [
    {
     "name": "stdout",
     "output_type": "stream",
     "text": [
      "Number of samples encountered for each class during fitting\n",
      "[0 1]\n",
      "[143691. 426067.  95491.]\n",
      "\n",
      "\n",
      "Probability of each class:\n",
      "[0 1]\n",
      "[0.21599582 0.64046244 0.14354174]\n",
      "\n",
      "\n",
      "Number of samples encountered for each (class, feature) during fitting\n",
      "Feature:  group_size\n",
      "[1 2 3 4]\n",
      "[[1.15460e+05 2.57280e+04 2.28200e+03 2.21000e+02]\n",
      " [3.29552e+05 9.10650e+04 5.06900e+03 3.81000e+02]\n",
      " [7.42930e+04 1.96000e+04 1.50500e+03 9.30000e+01]]\n",
      "\n",
      "\n",
      "Feature:  homeowner\n",
      "[0 1]\n",
      "[[ 78659.  65032.]\n",
      " [183130. 242937.]\n",
      " [ 46734.  48757.]]\n",
      "\n",
      "\n",
      "Feature:  married_couple\n",
      "[0 1]\n",
      "[[117110.  26581.]\n",
      " [333272.  92795.]\n",
      " [ 75310.  20181.]]\n",
      "\n",
      "\n",
      "Empirical probability of features given a class, P(x_i|y)\n",
      "Feature:  group_size\n",
      "[1 2 3 4]\n",
      "[[0.8035298  0.17905088 0.0158813  0.00153802]\n",
      " [0.77347459 0.21373399 0.01189719 0.00089423]\n",
      " [0.77801049 0.20525495 0.01576065 0.00097391]]\n",
      "\n",
      "\n",
      "Feature:  homeowner\n",
      "[0 1]\n",
      "[[0.54741772 0.45258228]\n",
      " [0.42981503 0.57018497]\n",
      " [0.48940738 0.51059262]]\n",
      "\n",
      "\n",
      "Feature:  married_couple\n",
      "[0 1]\n",
      "[[0.81501277 0.18498723]\n",
      " [0.78220562 0.21779438]\n",
      " [0.78866071 0.21133929]]\n",
      "\n",
      "\n"
     ]
    }
   ],
   "source": [
    "print('Number of samples encountered for each class during fitting')\n",
    "print(yLabel)\n",
    "print(_objNB.class_count_)\n",
    "print('\\n')\n",
    " \n",
    "print('Probability of each class:')\n",
    "print(yLabel)\n",
    "print(np.exp(_objNB.class_log_prior_))\n",
    "print('\\n')\n",
    "\n",
    "print('Number of samples encountered for each (class, feature) during fitting')\n",
    "for i in range(3):\n",
    "   print('Feature: ', feature[i])\n",
    "   print(featureCategory[i])\n",
    "   print(_objNB.category_count_[i])\n",
    "   print('\\n')\n",
    "\n",
    "print('Empirical probability of features given a class, P(x_i|y)')\n",
    "for i in range(3):\n",
    "   print('Feature: ', feature[i])\n",
    "   print(featureCategory[i])\n",
    "   print(np.exp(_objNB.feature_log_prob_[i]))\n",
    "   print('\\n')"
   ]
  },
  {
   "cell_type": "code",
   "execution_count": 95,
   "metadata": {},
   "outputs": [],
   "source": [
    "dataGropu = _objNB.category_count_[0]\n",
    "dataHome = _objNB.category_count_[1]\n",
    "dataMarried = _objNB.category_count_[2]"
   ]
  },
  {
   "cell_type": "code",
   "execution_count": 96,
   "metadata": {},
   "outputs": [],
   "source": [
    "#Function that helps calculate cramerV statistic\n",
    "\n",
    "def cramerV(d):\n",
    "    X2 = stats.chi2_contingency(d, correction=False)[0]\n",
    "    N = np.sum(d)\n",
    "    minimum_dimension = min(d.shape)-1\n",
    "  \n",
    "    # Calculate Cramer's V\n",
    "    result = np.sqrt((X2/N) / minimum_dimension)\n",
    "    return result\n"
   ]
  },
  {
   "cell_type": "code",
   "execution_count": 98,
   "metadata": {},
   "outputs": [
    {
     "name": "stdout",
     "output_type": "stream",
     "text": [
      "0.0271020140558208\n",
      "0.09708641964781957\n",
      "0.032421645835207485\n"
     ]
    }
   ],
   "source": [
    "print(cramerV(dataGropu))\n",
    "print(cramerV(dataHome))\n",
    "print(cramerV(dataMarried))"
   ]
  },
  {
   "cell_type": "code",
   "execution_count": 4,
   "metadata": {},
   "outputs": [],
   "source": [
    "\n",
    "df2 = pd.read_excel('Homeowner_Claim_History.xlsx').replace(to_replace='None', value=np.nan).dropna()\n",
    "#Category Names\n",
    "catName = ['f_primary_age_tier','f_primary_gender','f_marital','f_residence_location','f_fire_alarm_type','f_mile_fire_station','f_aoi_tier']\n",
    "#target\n",
    "yName = 'frequency'\n",
    "##Calculate the frequency and add column to data frame for training\n",
    "trainData = df2.assign(frequency=lambda x: x.num_claims/ df2.exposure).replace(to_replace='None', value=np.nan).dropna()\n",
    "n_sample = trainData.shape[0]\n"
   ]
  },
  {
   "cell_type": "code",
   "execution_count": 8,
   "metadata": {},
   "outputs": [],
   "source": [
    "# Reorder the categories of the target variables in descending frequency\n",
    "u = trainData[yName].astype('category').copy()\n",
    "\n",
    "u_freq = u.value_counts(ascending = False)\n",
    "trainData[yName] = u.cat.reorder_categories(list(u_freq.index)).copy()\n",
    "\n",
    "# Reorder the categories of the categorical variables in ascending frequency\n",
    "for pred in catName:\n",
    "    u = trainData[pred].astype('category').copy()\n",
    "    u_freq = u.value_counts(ascending = True)\n",
    "    trainData[pred] = u.cat.reorder_categories(list(u_freq.index)).copy()"
   ]
  },
  {
   "cell_type": "code",
   "execution_count": 9,
   "metadata": {},
   "outputs": [],
   "source": [
    "X = pd.get_dummies(trainData[catName].astype('category'))\n",
    "X.insert(0, '_BIAS_', 1.0)\n",
    "\n",
    "# Identify the aliased parameters\n",
    "n_param = X.shape[1]\n",
    "XtX = X.transpose().dot(X)\n",
    "origDiag = np.diag(XtX)\n",
    "XtXGinv, aliasParam, nonAliasParam = Utility.SWEEPOperator (n_param, XtX, origDiag, sweepCol = range(n_param), tol = 1.0e-7)\n",
    "X_reduce = X.iloc[:, list(nonAliasParam)].drop(columns = ['_BIAS_']).replace(to_replace='None', value=np.nan).dropna()\n",
    "\n",
    "y = pd.Series(trainData[yName].values).replace(to_replace='None', value=np.nan).dropna()\n"
   ]
  },
  {
   "cell_type": "code",
   "execution_count": null,
   "metadata": {},
   "outputs": [],
   "source": [
    "# Grid Search for the best neural network architecture\n",
    "actFunc = ['identity','tanh']\n",
    "nLayer = range(1,11,1)\n",
    "nHiddenNeuron = range(1,6,1)\n",
    "combList = itertools.product(actFunc, nLayer, nHiddenNeuron)\n",
    "\n",
    "result_list = []"
   ]
  },
  {
   "cell_type": "code",
   "execution_count": 151,
   "metadata": {},
   "outputs": [],
   "source": [
    "for comb in combList:\n",
    "   time_begin = time.time()\n",
    "   actFunc = comb[0]\n",
    "   nLayer = comb[1]\n",
    "   #Interate through different combinations of the model and save results into results_list\n",
    "   nHiddenNeuron = comb[2]\n",
    "   #Create and train MLPREgressor model\n",
    "   nnObj = neural_network.MLPRegressor(hidden_layer_sizes = (nHiddenNeuron,)*nLayer,\n",
    "              activation =  actFunc, verbose = False, max_iter = 10000, random_state = 31010)\n",
    "   #Fit data on to model\n",
    "   thisFit = nnObj.fit(X_reduce, y)\n",
    "   #Save predicted values\n",
    "   y_predProb = pd.DataFrame(nnObj.predict(X_reduce))\n",
    "\n",
    "   nIter = nnObj.n_iter_\n",
    "   blv = nnObj.best_loss_\n",
    "   #Calculate the RMSE\n",
    "   rase = metrics.mean_squared_error(y, y_predProb)\n",
    "   yMean = y.astype(float).mean()\n",
    "   #Calculate the Relative Error\n",
    "   rError = ((pd.DataFrame(y).values - y_predProb)**2).sum()[0]/((pd.DataFrame(y).values-yMean)**2).sum()\n",
    "   #Calculate the person correlation\n",
    "   pearson, _ = scipy.stats.pearsonr(y, y_predProb)\n",
    "   #Calculate time elapsed\n",
    "   elapsed_time = time.time() - time_begin\n",
    "   result_list.append([actFunc, nLayer, nHiddenNeuron, nIter, blv, rase, rError, pearson, elapsed_time])\n"
   ]
  },
  {
   "cell_type": "code",
   "execution_count": 152,
   "metadata": {},
   "outputs": [],
   "source": [
    "result_df = pd.DataFrame(result_list, columns = ['Activation Function', 'nLayer', 'nHiddenNeuron', 'nIter', 'blv','RMSE', 'rError','pearson', 'Elapsed Time'])"
   ]
  },
  {
   "cell_type": "code",
   "execution_count": 155,
   "metadata": {},
   "outputs": [
    {
     "data": {
      "text/html": [
       "<div>\n",
       "<style scoped>\n",
       "    .dataframe tbody tr th:only-of-type {\n",
       "        vertical-align: middle;\n",
       "    }\n",
       "\n",
       "    .dataframe tbody tr th {\n",
       "        vertical-align: top;\n",
       "    }\n",
       "\n",
       "    .dataframe thead th {\n",
       "        text-align: right;\n",
       "    }\n",
       "</style>\n",
       "<table border=\"1\" class=\"dataframe\">\n",
       "  <thead>\n",
       "    <tr style=\"text-align: right;\">\n",
       "      <th></th>\n",
       "      <th>Activation Function</th>\n",
       "      <th>nLayer</th>\n",
       "      <th>nHiddenNeuron</th>\n",
       "      <th>nIter</th>\n",
       "      <th>blv</th>\n",
       "      <th>RMSE</th>\n",
       "      <th>rError</th>\n",
       "      <th>pearson</th>\n",
       "      <th>Elapsed Time</th>\n",
       "    </tr>\n",
       "  </thead>\n",
       "  <tbody>\n",
       "    <tr>\n",
       "      <th>64</th>\n",
       "      <td>tanh</td>\n",
       "      <td>3</td>\n",
       "      <td>5</td>\n",
       "      <td>491</td>\n",
       "      <td>8.234113</td>\n",
       "      <td>16.418134</td>\n",
       "      <td>0.937752</td>\n",
       "      <td>[0.25355105195063676]</td>\n",
       "      <td>12.647711</td>\n",
       "    </tr>\n",
       "    <tr>\n",
       "      <th>59</th>\n",
       "      <td>tanh</td>\n",
       "      <td>2</td>\n",
       "      <td>5</td>\n",
       "      <td>1041</td>\n",
       "      <td>8.341647</td>\n",
       "      <td>16.659157</td>\n",
       "      <td>0.951519</td>\n",
       "      <td>[0.22164875506681073]</td>\n",
       "      <td>20.876758</td>\n",
       "    </tr>\n",
       "    <tr>\n",
       "      <th>74</th>\n",
       "      <td>tanh</td>\n",
       "      <td>5</td>\n",
       "      <td>5</td>\n",
       "      <td>328</td>\n",
       "      <td>8.422645</td>\n",
       "      <td>16.827777</td>\n",
       "      <td>0.961150</td>\n",
       "      <td>[0.1977248675133873]</td>\n",
       "      <td>12.960735</td>\n",
       "    </tr>\n",
       "    <tr>\n",
       "      <th>69</th>\n",
       "      <td>tanh</td>\n",
       "      <td>4</td>\n",
       "      <td>5</td>\n",
       "      <td>313</td>\n",
       "      <td>8.436540</td>\n",
       "      <td>16.829235</td>\n",
       "      <td>0.961233</td>\n",
       "      <td>[0.2021047392547686]</td>\n",
       "      <td>9.865079</td>\n",
       "    </tr>\n",
       "    <tr>\n",
       "      <th>63</th>\n",
       "      <td>tanh</td>\n",
       "      <td>3</td>\n",
       "      <td>4</td>\n",
       "      <td>556</td>\n",
       "      <td>8.440851</td>\n",
       "      <td>16.863362</td>\n",
       "      <td>0.963182</td>\n",
       "      <td>[0.1940622504067696]</td>\n",
       "      <td>13.582681</td>\n",
       "    </tr>\n",
       "    <tr>\n",
       "      <th>...</th>\n",
       "      <td>...</td>\n",
       "      <td>...</td>\n",
       "      <td>...</td>\n",
       "      <td>...</td>\n",
       "      <td>...</td>\n",
       "      <td>...</td>\n",
       "      <td>...</td>\n",
       "      <td>...</td>\n",
       "      <td>...</td>\n",
       "    </tr>\n",
       "    <tr>\n",
       "      <th>95</th>\n",
       "      <td>tanh</td>\n",
       "      <td>10</td>\n",
       "      <td>1</td>\n",
       "      <td>76</td>\n",
       "      <td>8.689886</td>\n",
       "      <td>17.378725</td>\n",
       "      <td>0.992618</td>\n",
       "      <td>[0.08604359860977615]</td>\n",
       "      <td>4.261293</td>\n",
       "    </tr>\n",
       "    <tr>\n",
       "      <th>28</th>\n",
       "      <td>identity</td>\n",
       "      <td>6</td>\n",
       "      <td>4</td>\n",
       "      <td>45</td>\n",
       "      <td>8.677424</td>\n",
       "      <td>17.379959</td>\n",
       "      <td>0.992689</td>\n",
       "      <td>[0.09398066989524323]</td>\n",
       "      <td>1.712347</td>\n",
       "    </tr>\n",
       "    <tr>\n",
       "      <th>80</th>\n",
       "      <td>tanh</td>\n",
       "      <td>7</td>\n",
       "      <td>1</td>\n",
       "      <td>16</td>\n",
       "      <td>8.754244</td>\n",
       "      <td>17.507960</td>\n",
       "      <td>1.000000</td>\n",
       "      <td>[0.061916283824514626]</td>\n",
       "      <td>0.763711</td>\n",
       "    </tr>\n",
       "    <tr>\n",
       "      <th>90</th>\n",
       "      <td>tanh</td>\n",
       "      <td>9</td>\n",
       "      <td>1</td>\n",
       "      <td>19</td>\n",
       "      <td>8.754159</td>\n",
       "      <td>17.507968</td>\n",
       "      <td>1.000000</td>\n",
       "      <td>[-0.018847686474501708]</td>\n",
       "      <td>1.059506</td>\n",
       "    </tr>\n",
       "    <tr>\n",
       "      <th>70</th>\n",
       "      <td>tanh</td>\n",
       "      <td>5</td>\n",
       "      <td>1</td>\n",
       "      <td>28</td>\n",
       "      <td>8.754086</td>\n",
       "      <td>17.507970</td>\n",
       "      <td>1.000000</td>\n",
       "      <td>[0.08101513557223544]</td>\n",
       "      <td>0.999225</td>\n",
       "    </tr>\n",
       "  </tbody>\n",
       "</table>\n",
       "<p>100 rows × 9 columns</p>\n",
       "</div>"
      ],
      "text/plain": [
       "   Activation Function  nLayer  nHiddenNeuron  nIter       blv       RMSE  \\\n",
       "64                tanh       3              5    491  8.234113  16.418134   \n",
       "59                tanh       2              5   1041  8.341647  16.659157   \n",
       "74                tanh       5              5    328  8.422645  16.827777   \n",
       "69                tanh       4              5    313  8.436540  16.829235   \n",
       "63                tanh       3              4    556  8.440851  16.863362   \n",
       "..                 ...     ...            ...    ...       ...        ...   \n",
       "95                tanh      10              1     76  8.689886  17.378725   \n",
       "28            identity       6              4     45  8.677424  17.379959   \n",
       "80                tanh       7              1     16  8.754244  17.507960   \n",
       "90                tanh       9              1     19  8.754159  17.507968   \n",
       "70                tanh       5              1     28  8.754086  17.507970   \n",
       "\n",
       "      rError                  pearson  Elapsed Time  \n",
       "64  0.937752    [0.25355105195063676]     12.647711  \n",
       "59  0.951519    [0.22164875506681073]     20.876758  \n",
       "74  0.961150     [0.1977248675133873]     12.960735  \n",
       "69  0.961233     [0.2021047392547686]      9.865079  \n",
       "63  0.963182     [0.1940622504067696]     13.582681  \n",
       "..       ...                      ...           ...  \n",
       "95  0.992618    [0.08604359860977615]      4.261293  \n",
       "28  0.992689    [0.09398066989524323]      1.712347  \n",
       "80  1.000000   [0.061916283824514626]      0.763711  \n",
       "90  1.000000  [-0.018847686474501708]      1.059506  \n",
       "70  1.000000    [0.08101513557223544]      0.999225  \n",
       "\n",
       "[100 rows x 9 columns]"
      ]
     },
     "execution_count": 155,
     "metadata": {},
     "output_type": "execute_result"
    }
   ],
   "source": [
    "result_df.sort_values(by='RMSE', ascending= True)"
   ]
  },
  {
   "cell_type": "code",
   "execution_count": 35,
   "metadata": {},
   "outputs": [],
   "source": [
    "nnObj = neural_network.MLPRegressor(hidden_layer_sizes = (5,)*3,\n",
    "              activation = 'tanh', verbose = False, max_iter = 10000, random_state = 31010)\n",
    "thisFit = nnObj.fit(X_reduce, y)\n",
    "y_predProb = pd.DataFrame(nnObj.predict(X_reduce))\n",
    "observed = pd.DataFrame(y).astype(float).copy()"
   ]
  },
  {
   "cell_type": "code",
   "execution_count": 30,
   "metadata": {},
   "outputs": [
    {
     "data": {
      "text/plain": [
       "0    12.20186\n",
       "dtype: float64"
      ]
     },
     "execution_count": 30,
     "metadata": {},
     "output_type": "execute_result"
    }
   ],
   "source": [
    "y_predProb.max()"
   ]
  },
  {
   "cell_type": "code",
   "execution_count": 38,
   "metadata": {},
   "outputs": [
    {
     "data": {
      "text/plain": [
       "0    200.0\n",
       "dtype: float64"
      ]
     },
     "execution_count": 38,
     "metadata": {},
     "output_type": "execute_result"
    }
   ],
   "source": [
    "observed.max()"
   ]
  },
  {
   "cell_type": "code",
   "execution_count": 79,
   "metadata": {},
   "outputs": [
    {
     "data": {
      "image/png": "[encoded data removed]",
      "text/plain": [
       "<Figure size 900x600 with 1 Axes>"
      ]
     },
     "metadata": {
      "needs_background": "light"
     },
     "output_type": "display_data"
    }
   ],
   "source": [
    "plt.plot(observed,y_predProb, 'ro', markersize = 3 )\n",
    "plt.ylabel('Predicted')\n",
    "plt.xlabel('Observed')\n",
    "plt.title('Predicted vs Observed Frequency')\n",
    "plt.show()\n"
   ]
  },
  {
   "cell_type": "code",
   "execution_count": 67,
   "metadata": {},
   "outputs": [],
   "source": [
    "sResidual = observed - y_predProb\n",
    "\n",
    "pResidual = sResidual/ ((y_predProb)**(0.5))"
   ]
  },
  {
   "cell_type": "code",
   "execution_count": 80,
   "metadata": {},
   "outputs": [
    {
     "name": "stderr",
     "output_type": "stream",
     "text": [
      "/var/folders/vp/yr6qb60x54q0pc8xg0dz3jg00000gn/T/ipykernel_13239/2590601839.py:2: UserWarning: color is redundantly defined by the 'color' keyword argument and the fmt string \"ro\" (-> color='r'). The keyword argument will take precedence.\n",
      "  plt.plot(observed,pResidual,'ro', color = 'blue', label='pResidual', markersize = 3)\n"
     ]
    },
    {
     "data": {
      "image/png": "[encoded data removed]",
      "text/plain": [
       "<Figure size 900x600 with 1 Axes>"
      ]
     },
     "metadata": {
      "needs_background": "light"
     },
     "output_type": "display_data"
    }
   ],
   "source": [
    "\n",
    "plt.plot(observed,sResidual, 'ro',label='sResidual', markersize = 3)\n",
    "plt.plot(observed,pResidual,'ro', color = 'blue', label='pResidual', markersize = 3)\n",
    "plt.ylabel('Predicted')\n",
    "plt.xlabel('Observed')\n",
    "plt.title('Residual vs Observed')\n",
    "plt.xticks(np.arange(0, 201, 20))\n",
    "plt.legend()\n",
    "plt.show()"
   ]
  }
 ],
 "metadata": {
  "kernelspec": {
   "display_name": "Python 3.10.5 64-bit",
   "language": "python",
   "name": "python3"
  },
  "language_info": {
   "codemirror_mode": {
    "name": "ipython",
    "version": 3
   },
   "file_extension": ".py",
   "mimetype": "text/x-python",
   "name": "python",
   "nbconvert_exporter": "python",
   "pygments_lexer": "ipython3",
   "version": "3.10.5"
  },
  "orig_nbformat": 4,
  "vscode": {
   "interpreter": {
    "hash": "44a9cdcbdccbf05a880e90d2e6fe72470baab4d1b82472d890be0596ed887a6b"
   }
  }
 },
 "nbformat": 4,
 "nbformat_minor": 2
}
